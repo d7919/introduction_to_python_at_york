{
 "cells": [
  {
   "cell_type": "markdown",
   "id": "994cae8b-eb53-48e6-81c8-62c1557ebe7c",
   "metadata": {},
   "source": [
    "# Getting started with these exercises and python\n",
    "\n",
    "Welcome to the introduction to python guided exercises offered as a part of Computational Plasma Physics at the [University of York](https://www.york.ac.uk).\n",
    "\n",
    "These notebooks are not intended to provide a complete introduction to all aspects of using python, and there are many good resources providing [guides to getting start with python](https://wiki.python.org/moin/BeginnersGuide/NonProgrammers), instead these notebooks are intended to help students get up and running with a minimal set of skills required for the use of python across a number of modules in the [Fusion Energy MSc](https://www.york.ac.uk/study/postgraduate-taught/courses/msc-fusion-energy/) and [Fusion CDT](https://fusion-cdt.ac.uk). As such, the emphasis here is on typical pitfalls, worked examples for common tasks which can be repurposed and small challenges for students to solve and practice what they have learnt. There is no formal assessment associated with these tasks and how much you choose to make use of these is entirely a personal choice.\n",
    "\n",
    "## Using python in jupyter lab\n",
    "There are many different ways in which people work with python, including:\n",
    "\n",
    "1. working directly with the [python interpreter](https://docs.python.org/3/tutorial/interpreter.html) : Here one typically types commands line by line, these execute immediately and then one moves onto the next command. This has the benefit of immediate feedback and is useful when experimenting or exploring data (i.e. where you might not know in advance what you actually want to do). A big downside is that it can be cumbersome to work with complicated commands and it can be very hard to repeat some work that you've done previously .\n",
    "2. writing python scripts : Here rather than typing commands directly into the interpretter one writes them into a file and then tells python to read this file and act accordingly. This is very helpful as it provides a record of what is to be done, making it much easier to repeat the same steps at a later date. One downside of this approach is that there is typically less interaction so it can be less suited for exploratory work. There are tools called IDEs which combine a text editor with knowledge about python to try to make your life easier, for example providing ways to run your code without leaving the editor. Many students like [Spyder](https://www.spyder-ide.org/) and there's a list [here](https://wiki.python.org/moin/IntegratedDevelopmentEnvironments) of some others. You don't need to use an IDE and any plain text editor is fine. Some editors can provide features such as syntax highlighting and there's a list [here](https://wiki.python.org/moin/PythonEditors) of some options.\n",
    "3. In practice many people often use a mixture of the previous two approaches, experimenting in the interpreter to determine what they want to do, writing a script which contains chunks of code (e.g. functions) which can then be imported (see later) into the interpreter for interactive use.\n",
    "4. [Jupyter notebooks](https://jupyter.org) : This document is a Jupyter notebook and provides an alternative to the previous cases and is an alternative to the other approaches offering several of the benefits of each. A notebook consists of cells which can either contain text (like this cell), python code or the output of python code. Each cell can be \"executed\" without running the rest of the code. This allows one to experiment, have an overview of the entire code and keep a record of the final state. \n",
    "\n",
    "To run the code in a cell select it and press Ctrl and Return at the same time or press the play putton at the top of the page. Try it out on the below, you should see the message `Hello world` display below the cell."
   ]
  },
  {
   "cell_type": "code",
   "execution_count": null,
   "id": "ce262a86-a0be-463e-b1c3-dd0ecc5da6b8",
   "metadata": {},
   "outputs": [],
   "source": [
    "print(\"Hello world\")"
   ]
  },
  {
   "cell_type": "markdown",
   "id": "7785fe9e-3b31-4313-bd8b-b858856e7a9a",
   "metadata": {},
   "source": [
    "## Working with the exercises\n",
    "The exercises are split across multiple notebooks based on different topics and generally we'd recommend working through these in order.\n",
    "\n",
    "Typically we will start with a brief introduction to the topic, followed by a worked example and then a small number of challenges building off of the example. You can work directly in the notebooks if you wish, either modifying the example code or adding new cells. This allows you to immediately run your code  Worked solutions will be made available if you want to check your attempts, however don't forget th\n"
   ]
  }
 ],
 "metadata": {
  "kernelspec": {
   "display_name": "Python 3 (ipykernel)",
   "language": "python",
   "name": "python3"
  },
  "language_info": {
   "codemirror_mode": {
    "name": "ipython",
    "version": 3
   },
   "file_extension": ".py",
   "mimetype": "text/x-python",
   "name": "python",
   "nbconvert_exporter": "python",
   "pygments_lexer": "ipython3",
   "version": "3.11.4"
  }
 },
 "nbformat": 4,
 "nbformat_minor": 5
}
