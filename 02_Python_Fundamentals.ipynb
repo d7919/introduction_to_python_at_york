{
 "cells": [
  {
   "cell_type": "markdown",
   "id": "34be30b7-9a75-4906-ab43-513a70e18822",
   "metadata": {},
   "source": [
    "# Python fundamentals\n",
    "\n",
    "There are many python tutorials aimed at teaching the fundamentals and we do not intend to duplicate these here. Instead, we will introduce some of the basic concepts which you are most likely to encounter. To dig further there's the official [python tutorial](https://docs.python.org/3/tutorial/index.html) and you may also wish to look at the interactive exercises at [W3Schools](https://www.w3schools.com/python/default.asp).\n",
    "\n",
    "In this notebook we will look at variables (data), control flow (how we decide what to do), functions (names given to chunks of code to enable reuse) and modules (collections of code which can add extra functionality). "
   ]
  },
  {
   "cell_type": "markdown",
   "id": "2eae7e15-326c-489f-9ac1-edbf38015f9a",
   "metadata": {},
   "source": [
    "## Variables\n",
    "\n",
    "Variables are essentially named boxes in which we store values. You are probably familiar with this concept from maths, however variables in programming can behave a little differently. Firstly we often redefine the variable, i.e. we change what values are stored in that named box, and secondly variables might contain different types of data.\n",
    "\n",
    "For example, in the below we create a variable `x` which initially stores the numeric value `0`. We then decide `x` is in fact 1. Next we redefine `x` to be `x + 1` (which is 2) and finally we change the value of `x` to store some text (known as a string).\n"
   ]
  },
  {
   "cell_type": "code",
   "execution_count": null,
   "id": "618bab37-9cc0-46a2-aebc-e013db5550ef",
   "metadata": {},
   "outputs": [],
   "source": [
    "x = 0\n",
    "print(\"The value of x is:\")\n",
    "print(x)\n",
    "x = 1\n",
    "print(\"The value of x is:\")\n",
    "print(x)\n",
    "x = x + 1\n",
    "print(\"The value of x is:\")\n",
    "print(x)\n",
    "x = 'some message'\n",
    "print(\"The value of x is:\")\n",
    "print(x)"
   ]
  },
  {
   "cell_type": "markdown",
   "id": "67ee986c-82e1-4d4e-89ab-04b7ec38635b",
   "metadata": {},
   "source": [
    "We can do operations with variables, for example in the below we add together two numbers"
   ]
  },
  {
   "cell_type": "code",
   "execution_count": null,
   "id": "2e0dc8e4-d6cc-42ae-b4c1-13187028c346",
   "metadata": {},
   "outputs": [],
   "source": [
    "x = 1\n",
    "y = 2\n",
    "print(x + y)"
   ]
  },
  {
   "cell_type": "markdown",
   "id": "46935e7d-d9fb-4a8d-9f31-469364d72bf1",
   "metadata": {},
   "source": [
    "we can also add together strings"
   ]
  },
  {
   "cell_type": "code",
   "execution_count": null,
   "id": "f655167f-6fd5-4e97-ab20-1365e76d01a4",
   "metadata": {},
   "outputs": [],
   "source": [
    "x = 'Hello '\n",
    "y = \"world \"\n",
    "print(x + y)"
   ]
  },
  {
   "cell_type": "markdown",
   "id": "7bdcadce-250f-4c01-b134-a48f4a04a208",
   "metadata": {},
   "source": [
    "python is what is known as \"dynamically typed\" -- we do not need to say in advance what type of variable a name corresponds to and the type can change through the code. This is great for quickly getting up and running but means you have to be a bit more careful (we'll see some examples later) and it can also have an impact on performance.\n",
    "\n",
    "The main variable types we will come across are:\n",
    "\n",
    "* Integers : `0, 1, 2, ...` (python type `int`)\n",
    "* Floating point numbers : `0.0, 0.1, 1.0, ...` (python type `float` or `complex`)\n",
    "* Strings : text or other collections of characters, e.g. `\"some message with a number 1\"` (python type `str`)\n",
    "* Booleans : Logical values of true or false, can be `True` or `False` (python type `bool`)\n",
    "* None : Represents nothing, `None`.\n",
    "\n",
    "These are all \"scalar\" types or in other words types which represent a single value. We can also have types which represent collections of single values, such as:\n",
    "\n",
    "* Lists : e.g. `my_list = [0, 1, \"Hello\"]` -- can store a collection of variables of mixed types. Can be modified (add/remove values)\n",
    "* Tuples : e.g. `my_tuple = (0, 1, \"Hello\")` -- can store a collection of variables of mixed types. Cannot be modified (add/remove values)\n",
    "* Dictionaries : e.g. `my_dictionary = {'key_1':x, 'key_2':y}` -- provides a way to map from keys to values.\n",
    "\n",
    "These can generally be nested as well (e.g. you can have a lists of lists).\n",
    "\n",
    "In the below we create a list mixing variables, and different types etc."
   ]
  },
  {
   "cell_type": "code",
   "execution_count": null,
   "id": "b8279a5c-c062-47c5-a20e-06e3df488955",
   "metadata": {},
   "outputs": [],
   "source": [
    "x = 1.0\n",
    "y = 'test'\n",
    "z = True\n",
    "a = None\n",
    "my_list = [x, y, z, a, 'another string']\n",
    "print(my_list)"
   ]
  },
  {
   "cell_type": "markdown",
   "id": "39b77aca-8719-40b4-9c40-04c7b2f96393",
   "metadata": {},
   "source": [
    "To get data out of collections (e.g. lists, dictionaries etc.) we have to index them -- this means we have to say which position/value do we want. python is what is known as \"zero-indexed\" meaning it starts counting from zero. Suppose we want to check the second value in `my_list` from the previous example, we can do the following:"
   ]
  },
  {
   "cell_type": "code",
   "execution_count": null,
   "id": "2160a4cb-7b8e-4b5f-8da0-5d7b2e543b0a",
   "metadata": {},
   "outputs": [],
   "source": [
    "print('y = ',my_list[1])"
   ]
  },
  {
   "cell_type": "markdown",
   "id": "feeee545-33da-4ca3-af20-ea3d87a7beb4",
   "metadata": {},
   "source": [
    "Note we have used `[]` to \"index\" the list and we have asked for the `index = 1` element to get the *second* element of the list. Lists are useful for storing collections of data where you may need to add extra items. For example we can use the `append` method to add a new value to the end of the list as follows "
   ]
  },
  {
   "cell_type": "code",
   "execution_count": null,
   "id": "89fcee7a-e56c-4f7e-b195-01d5a8338357",
   "metadata": {},
   "outputs": [],
   "source": [
    "the_list = [0,1,2,3,4]\n",
    "print(the_list)\n",
    "the_list.append(5)\n",
    "print(the_list)"
   ]
  },
  {
   "cell_type": "markdown",
   "id": "cfa6427d-9de5-468d-88b1-f5c087991e3c",
   "metadata": {},
   "source": [
    "We can also merge two lists using the `extend` method:"
   ]
  },
  {
   "cell_type": "code",
   "execution_count": null,
   "id": "9cdec371-d11a-4425-8d06-93ff2c5d8993",
   "metadata": {},
   "outputs": [],
   "source": [
    "the_first_list = [0,1,2,3,4]\n",
    "the_second_list = [5,6,7,8,9]\n",
    "the_first_list.extend(the_second_list)\n",
    "print(the_first_list)\n"
   ]
  },
  {
   "cell_type": "markdown",
   "id": "64e92344-4ad6-4675-b86a-661c3f623404",
   "metadata": {},
   "source": [
    "Note how this changed `the_first_list`. We could alternatively merge these by adding our two lists, which creates a new list rather than modifying our existing one:"
   ]
  },
  {
   "cell_type": "code",
   "execution_count": null,
   "id": "feb69fd9-d582-486a-8fca-f232e0d6ba62",
   "metadata": {},
   "outputs": [],
   "source": [
    "the_first_list = [0,1,2,3,4]\n",
    "the_second_list = [5,6,7,8,9]\n",
    "the_new_list = the_first_list + the_second_list\n",
    "print(the_new_list)\n",
    "print(the_first_list)"
   ]
  },
  {
   "cell_type": "markdown",
   "id": "1d50856e-c0a2-49bb-a65c-45e4bae46789",
   "metadata": {},
   "source": [
    "What if we want to double all the values? Many people would first try the following:"
   ]
  },
  {
   "cell_type": "code",
   "execution_count": null,
   "id": "4e89d6fa-da67-4a8e-b661-b30e599bdf8e",
   "metadata": {},
   "outputs": [],
   "source": [
    "the_list = [0,1,2,3]\n",
    "the_new_list = the_list * 2\n",
    "print(the_new_list)"
   ]
  },
  {
   "cell_type": "markdown",
   "id": "9dc1dcee-b8e1-4929-a0b2-f7ee70656703",
   "metadata": {},
   "source": [
    "Clearly this didn't do what we wanted! It's important to remember that python is a general purpose programming language, whilst we're mostly interested in numerical operations python is not designed around this. Lists and most of the basic data types in python are general purpose and hence not optimised for numerical/scientific operations. Fortunately it's possible to define our own types which do behave as we would expect. Even better, we can make use of types defined by other people and this is where the use of modules to extend the core functionality of python makes our life _much_ easier."
   ]
  },
  {
   "cell_type": "markdown",
   "id": "d359b977-ec05-454e-b12f-98fc61269e58",
   "metadata": {},
   "source": [
    "\n",
    "### Tips and pitfalls\n",
    "* You should try to use descriptive variable names, e.g. `length` rather than `l`, to aid the clarity of your code.\n",
    "* Variable names are case sensitive, `Length` is different from `length`."
   ]
  }
 ],
 "metadata": {
  "kernelspec": {
   "display_name": "Python 3 (ipykernel)",
   "language": "python",
   "name": "python3"
  },
  "language_info": {
   "codemirror_mode": {
    "name": "ipython",
    "version": 3
   },
   "file_extension": ".py",
   "mimetype": "text/x-python",
   "name": "python",
   "nbconvert_exporter": "python",
   "pygments_lexer": "ipython3",
   "version": "3.11.4"
  }
 },
 "nbformat": 4,
 "nbformat_minor": 5
}
