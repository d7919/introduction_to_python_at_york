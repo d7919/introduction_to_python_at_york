{
 "cells": [
  {
   "cell_type": "markdown",
   "id": "34be30b7-9a75-4906-ab43-513a70e18822",
   "metadata": {},
   "source": [
    "# Python fundamentals\n",
    "\n",
    "There are many python tutorials aimed at teaching the fundamentals and we do not intend to duplicate these here. Instead, we will introduce some of the basic concepts which you are most likely to encounter. To dig further there's the official [python tutorial](https://docs.python.org/3/tutorial/index.html) and you may also wish to look at the interactive exercises at [W3Schools](https://www.w3schools.com/python/default.asp).\n",
    "\n",
    "In this notebook we will look at variables (data), control flow (how we decide what to do), functions (names given to chunks of code to enable reuse) and modules (collections of code which can add extra functionality). "
   ]
  },
  {
   "cell_type": "markdown",
   "id": "2eae7e15-326c-489f-9ac1-edbf38015f9a",
   "metadata": {},
   "source": [
    "## Variables\n",
    "\n",
    "Variables are essentially named boxes in which we store values. You are probably familiar with this concept from maths, however variables in programming can behave a little differently. Firstly we often redefine the variable, i.e. we change what values are stored in that named box, and secondly variables might contain different types of data.\n",
    "\n",
    "For example, in the below we create a variable `x` which initially stores the numeric value `0`. We then decide `x` is in fact 1. Next we redefine `x` to be `x + 1` (which is 2) and finally we change the value of `x` to store some text (known as a string).\n"
   ]
  },
  {
   "cell_type": "code",
   "execution_count": null,
   "id": "618bab37-9cc0-46a2-aebc-e013db5550ef",
   "metadata": {},
   "outputs": [],
   "source": [
    "x = 0\n",
    "print(\"The value of x is:\")\n",
    "print(x)\n",
    "x = 1\n",
    "print(\"The value of x is:\")\n",
    "print(x)\n",
    "x = x + 1\n",
    "print(\"The value of x is:\")\n",
    "print(x)\n",
    "x = 'some message'\n",
    "print(\"The value of x is:\")\n",
    "print(x)"
   ]
  },
  {
   "cell_type": "markdown",
   "id": "67ee986c-82e1-4d4e-89ab-04b7ec38635b",
   "metadata": {},
   "source": [
    "We can do operations with variables, for example in the below we add together two numbers"
   ]
  },
  {
   "cell_type": "code",
   "execution_count": null,
   "id": "2e0dc8e4-d6cc-42ae-b4c1-13187028c346",
   "metadata": {},
   "outputs": [],
   "source": [
    "x = 1\n",
    "y = 2\n",
    "print(x + y)"
   ]
  },
  {
   "cell_type": "markdown",
   "id": "46935e7d-d9fb-4a8d-9f31-469364d72bf1",
   "metadata": {},
   "source": [
    "we can also add together strings"
   ]
  },
  {
   "cell_type": "code",
   "execution_count": null,
   "id": "f655167f-6fd5-4e97-ab20-1365e76d01a4",
   "metadata": {},
   "outputs": [],
   "source": [
    "x = 'Hello '\n",
    "y = \"world \"\n",
    "print(x + y)"
   ]
  },
  {
   "cell_type": "markdown",
   "id": "7bdcadce-250f-4c01-b134-a48f4a04a208",
   "metadata": {},
   "source": [
    "python is what is known as \"dynamically typed\" -- we do not need to say in advance what type of variable a name corresponds to and the type can change through the code. This is great for quickly getting up and running but means you have to be a bit more careful (we'll see some examples later) and it can also have an impact on performance.\n",
    "\n",
    "The main variable types we will come across are:\n",
    "\n",
    "* Integers : `0, 1, 2, ...` (python type `int`)\n",
    "* Floating point numbers : `0.0, 0.1, 1.0, ...` (python type `float` or `complex`)\n",
    "* Strings : text or other collections of characters, e.g. `\"some message with a number 1\"` (python type `str`)\n",
    "* Booleans : Logical values of true or false, can be `True` or `False` (python type `bool`)\n",
    "* None : Represents nothing, `None`.\n",
    "\n",
    "These are all \"scalar\" types or in other words types which represent a single value. We can also have types which represent collections of single values, such as:\n",
    "\n",
    "* Lists : e.g. `my_list = [0, 1, \"Hello\"]` -- can store a collection of variables of mixed types. Can be modified (add/remove values)\n",
    "* Tuples : e.g. `my_tuple = (0, 1, \"Hello\")` -- can store a collection of variables of mixed types. Cannot be modified (add/remove values)\n",
    "* Dictionaries : e.g. `my_dictionary = {'key_1':x, 'key_2':y}` -- provides a way to map from keys to values.\n",
    "\n",
    "These can generally be nested as well (e.g. you can have a lists of lists).\n",
    "\n",
    "In the below we create a list mixing variables, and different types etc."
   ]
  },
  {
   "cell_type": "code",
   "execution_count": null,
   "id": "b8279a5c-c062-47c5-a20e-06e3df488955",
   "metadata": {},
   "outputs": [],
   "source": [
    "x = 1.0\n",
    "y = 'test'\n",
    "z = True\n",
    "a = None\n",
    "my_list = [x, y, z, a, 'another string']\n",
    "print(my_list)"
   ]
  },
  {
   "cell_type": "markdown",
   "id": "39b77aca-8719-40b4-9c40-04c7b2f96393",
   "metadata": {},
   "source": [
    "To get data out of collections (e.g. lists, dictionaries etc.) we have to index them -- this means we have to say which position/value do we want. python is what is known as \"zero-indexed\" meaning it starts counting from zero. Suppose we want to check the second value in `my_list` from the previous example, we can do the following:"
   ]
  },
  {
   "cell_type": "code",
   "execution_count": null,
   "id": "2160a4cb-7b8e-4b5f-8da0-5d7b2e543b0a",
   "metadata": {},
   "outputs": [],
   "source": [
    "print('y = ',my_list[1])"
   ]
  },
  {
   "cell_type": "markdown",
   "id": "feeee545-33da-4ca3-af20-ea3d87a7beb4",
   "metadata": {},
   "source": [
    "Note we have used `[]` to \"index\" the list and we have asked for the `index = 1` element to get the *second* element of the list. Lists are useful for storing collections of data where you may need to add extra items. For example we can use the `append` method to add a new value to the end of the list as follows "
   ]
  },
  {
   "cell_type": "code",
   "execution_count": null,
   "id": "89fcee7a-e56c-4f7e-b195-01d5a8338357",
   "metadata": {},
   "outputs": [],
   "source": [
    "the_list = [0,1,2,3,4]\n",
    "print(the_list)\n",
    "the_list.append(5)\n",
    "print(the_list)"
   ]
  },
  {
   "cell_type": "markdown",
   "id": "cfa6427d-9de5-468d-88b1-f5c087991e3c",
   "metadata": {},
   "source": [
    "We can also merge two lists using the `extend` method:"
   ]
  },
  {
   "cell_type": "code",
   "execution_count": null,
   "id": "9cdec371-d11a-4425-8d06-93ff2c5d8993",
   "metadata": {},
   "outputs": [],
   "source": [
    "the_first_list = [0,1,2,3,4]\n",
    "the_second_list = [5,6,7,8,9]\n",
    "the_first_list.extend(the_second_list)\n",
    "print(the_first_list)\n"
   ]
  },
  {
   "cell_type": "markdown",
   "id": "64e92344-4ad6-4675-b86a-661c3f623404",
   "metadata": {},
   "source": [
    "Note how this changed `the_first_list`. We could alternatively merge these by adding our two lists, which creates a new list rather than modifying our existing one:"
   ]
  },
  {
   "cell_type": "code",
   "execution_count": null,
   "id": "feb69fd9-d582-486a-8fca-f232e0d6ba62",
   "metadata": {},
   "outputs": [],
   "source": [
    "the_first_list = [0,1,2,3,4]\n",
    "the_second_list = [5,6,7,8,9]\n",
    "the_new_list = the_first_list + the_second_list\n",
    "print(the_new_list)\n",
    "print(the_first_list)"
   ]
  },
  {
   "cell_type": "markdown",
   "id": "1d50856e-c0a2-49bb-a65c-45e4bae46789",
   "metadata": {},
   "source": [
    "What if we want to double all the values? Many people would first try the following:"
   ]
  },
  {
   "cell_type": "code",
   "execution_count": null,
   "id": "4e89d6fa-da67-4a8e-b661-b30e599bdf8e",
   "metadata": {},
   "outputs": [],
   "source": [
    "the_list = [0,1,2,3]\n",
    "the_new_list = the_list * 2\n",
    "print(the_new_list)"
   ]
  },
  {
   "cell_type": "markdown",
   "id": "9dc1dcee-b8e1-4929-a0b2-f7ee70656703",
   "metadata": {},
   "source": [
    "Clearly this didn't do what we wanted! It's important to remember that python is a general purpose programming language, whilst we're mostly interested in numerical operations python is not designed around this. Lists and most of the basic data types in python are general purpose and hence not optimised for numerical/scientific operations. Fortunately it's possible to define our own types which do behave as we would expect. Even better, we can make use of types defined by other people and this is where the use of modules to extend the core functionality of python makes our life _much_ easier."
   ]
  },
  {
   "cell_type": "markdown",
   "id": "d359b977-ec05-454e-b12f-98fc61269e58",
   "metadata": {},
   "source": [
    "\n",
    "### Tips and pitfalls\n",
    "* You should try to use descriptive variable names, e.g. `length` rather than `l`, to aid the clarity of your code.\n",
    "* Variable names are case sensitive, `Length` is different from `length`."
   ]
  },
  {
   "cell_type": "markdown",
   "id": "170807ad-487e-4a9c-aba9-6a11b1dee3e2",
   "metadata": {},
   "source": [
    "## Control flow\n",
    "\n",
    "Now that we know a little about how we can store and refer to data we can turn our attention to working with the data. Generally our code will involve defining/reading some data and then performing various operations on it, but what if we have to do the same operation a number of times or what if we should only do the operation in certain cases? We need ways to express these ideas in code and this is the topic of this section.\n",
    "\n",
    "Let's begin by considering a case where we want to only print a message in some situation, we can use an `if` statement as follows:"
   ]
  },
  {
   "cell_type": "code",
   "execution_count": null,
   "id": "80322e96-af8c-46a6-b87e-57a2f6bf4dde",
   "metadata": {},
   "outputs": [],
   "source": [
    "x = 1\n",
    "if x > 0:\n",
    "    print(\"x is larger than zero\")\n",
    "    \n",
    "y = 0\n",
    "if y > 0:\n",
    "    print(\"y is larger than zero\")"
   ]
  },
  {
   "cell_type": "markdown",
   "id": "f1e05532-30c5-417f-9e99-720f85260855",
   "metadata": {},
   "source": [
    "Note that only the first message is displayed. It's also important to note that we have indented the code that we want to conditionally execute -- this is not optional, python uses indentation to decide which code is associated with the `if` (and other blocks). It means you don't need to write anything to say this is where the `if` part ends, but you need to take care about your indentation. \n",
    "\n",
    "We can also handle multiple different cases in a single approach using an `if, elif, else` block:"
   ]
  },
  {
   "cell_type": "code",
   "execution_count": null,
   "id": "dc8ca786-d479-453a-82d0-81be7343d1ee",
   "metadata": {},
   "outputs": [],
   "source": [
    "x = 1\n",
    "\n",
    "if x == 2:\n",
    "    print('x is exactly 2')\n",
    "elif x > 0:\n",
    "    print('x is positive but not 2')\n",
    "elif x < 0:\n",
    "    print('x is negative')\n",
    "else:\n",
    "    print('x is zero')\n",
    "\n",
    "x = 0\n",
    "if x == 2:\n",
    "    print('x is exactly 2')\n",
    "elif x > 0:\n",
    "    print('x is positive but not 2')\n",
    "elif x < 0:\n",
    "    print('x is negative')\n",
    "else:\n",
    "    print('x is zero')\n"
   ]
  },
  {
   "cell_type": "markdown",
   "id": "51197bc5-644e-4a5c-855d-82fc94999d18",
   "metadata": {},
   "source": [
    "Note how we've had to duplicate the `if, elif, else` block in order to try different values of `x` -- this is not great, it makes the code harder to read, increases the risk of errors and makes more work for you. When we actually want to do the same thing repeatedly, we can use a `for` loop, e.g.:"
   ]
  },
  {
   "cell_type": "code",
   "execution_count": null,
   "id": "544cdf42-3d3f-48d2-915b-966b22f4ab3d",
   "metadata": {},
   "outputs": [],
   "source": [
    "the_values = [1, 0]\n",
    "for value in the_values:\n",
    "    if value == 2:\n",
    "        print('value is exactly 2')\n",
    "    elif value > 0:\n",
    "        print('value is positive but not 2')\n",
    "    elif value < 0:\n",
    "        print('value is negative')\n",
    "    else:\n",
    "        print('value is zero')"
   ]
  },
  {
   "cell_type": "markdown",
   "id": "e5be7de3-2b70-4d12-b7ac-6e9ba528381c",
   "metadata": {},
   "source": [
    "Here we name something of the form `for <name> in <collection>` where `<collection>` is some container (such as a list etc.) and we go through this collection effectively setting `<name> = <collection>[i]` for `i` from `0` to the last index.\n",
    "\n",
    "There are some occassions where one wants to repeat an operation until some condition is met, rather than a fixed number of times. For this a `while` loop can be helpful. Consider if we want to keep doubling a number until it exceeds another number, we could do something like:"
   ]
  },
  {
   "cell_type": "code",
   "execution_count": null,
   "id": "ee58c55c-0925-4d9d-b25e-af8a79ff4093",
   "metadata": {},
   "outputs": [],
   "source": [
    "value = 1\n",
    "limit = 15\n",
    "while value < limit:\n",
    "    value = value * 2\n",
    "print(value)"
   ]
  },
  {
   "cell_type": "markdown",
   "id": "4c395d61-5592-40fe-896e-e6e9fe6092dc",
   "metadata": {},
   "source": [
    "### Task\n",
    "\n",
    "Modify the below code block so that it doubles every entry in the list. Hint: You might want to look at examples of using [enumerate](https://realpython.com/python-enumerate/)."
   ]
  },
  {
   "cell_type": "code",
   "execution_count": null,
   "id": "e36ad5d3-3e9b-4263-8426-a966b301f860",
   "metadata": {},
   "outputs": [],
   "source": [
    "the_list = [0, 1, 2, 3]\n",
    "\n",
    "# Write your code here\n",
    "\n",
    "print(the_list) # Expect [0, 2, 4, 6]\n"
   ]
  },
  {
   "cell_type": "markdown",
   "id": "6cef1c29-360b-45e1-81e4-c57ef165f8ae",
   "metadata": {},
   "source": [
    "Modify your existing code to double odd entries and triple even ones."
   ]
  },
  {
   "cell_type": "markdown",
   "id": "fb203942-e92b-49a6-9a72-06eb5466a5c1",
   "metadata": {},
   "source": [
    "## Functions\n",
    "\n",
    "Once you start to do anything more than a few lines your code might get harder to read, and even with flow control if you need to do some operations multiple times you may be tempted to copy and paste your earlier code. Instead, it would be nice if one could refer to a block of code by a simple name instead. This is where functions come in, these are essentially named blocks of code to which you can pass data and get back data. Consider the previous `for` example, we could rewrite this using functions as:"
   ]
  },
  {
   "cell_type": "code",
   "execution_count": null,
   "id": "6773771d-45fb-4223-8d3c-5a15aa0c5d81",
   "metadata": {},
   "outputs": [],
   "source": [
    "def check_value(value):\n",
    "    if value == 2:\n",
    "        print('value is exactly 2')\n",
    "    elif value > 0:\n",
    "        print('value is positive but not 2')\n",
    "    elif value < 0:\n",
    "        print('value is negative')\n",
    "    else:\n",
    "        print('value is zero')\n",
    "\n",
    "for value in the_values:\n",
    "    check_value(value)\n"
   ]
  },
  {
   "cell_type": "markdown",
   "id": "a86c259c-5621-4804-b0ff-e101501ff256",
   "metadata": {},
   "source": [
    "Whilst this isn't any shorter, the `for` loop is now somewhat clearer _and_ we can reuse the logic elsewhere. Functions can also return values, consider if we want to regular square numbers and add one on, we could do the following:"
   ]
  },
  {
   "cell_type": "code",
   "execution_count": null,
   "id": "09d4d497-fcc5-4baf-b4e5-fd08f86515ed",
   "metadata": {},
   "outputs": [],
   "source": [
    "def square_and_add(x, to_add = 1):\n",
    "    return x * x + to_add\n",
    "\n",
    "the_values = [0, 1, 2]\n",
    "for value in the_values:\n",
    "    print(value, square_and_add(value))\n",
    "\n",
    "for value in the_values:\n",
    "    print(value, square_and_add(value, to_add = 4))"
   ]
  },
  {
   "cell_type": "markdown",
   "id": "ee240e31-542f-4273-b6d2-96b367c249b5",
   "metadata": {},
   "source": [
    "Note how we have introduced an \"optional\" argument `to_add`.\n",
    "\n",
    "Of course we've actually been using the `print` function provided by python throughout most of these examples."
   ]
  },
  {
   "cell_type": "markdown",
   "id": "d2927876-5e60-4035-867a-6f705bc09b5a",
   "metadata": {},
   "source": [
    "### Task\n",
    "\n",
    "Modfiy the below code block so that the function `cube` return the cube of a passed value"
   ]
  },
  {
   "cell_type": "code",
   "execution_count": null,
   "id": "eee4fad6-f7fc-4935-ba47-a760d528c4fb",
   "metadata": {},
   "outputs": [],
   "source": [
    "def cube():\n",
    "    # \n",
    "\n",
    "for value in [0, 1, 2, 3]:\n",
    "    print(f\"{value} cubed is \",cube(value))"
   ]
  },
  {
   "cell_type": "markdown",
   "id": "64e5fd94-be89-4c93-a7ee-cb9d8b72d01b",
   "metadata": {},
   "source": [
    "## Modules\n",
    "\n",
    "Whilst we've talked about how we can use functions to add code reuse in our work, we can go a bit further. It's possible to reuse functions and data types across projects by packaging these up into a module which can be shared with others. The diverse range of packages and the ease of obtaining these is one of the reasons python is so popular and widely used -- modules can add capabilities focussing on specific application areas, e.g. scientific computing etc. To use a module we first need to make sure it is installed/available on our current machine. A common approach to this is to use the tool `pip` with which one would do `pip install <package_name>` to attempt to install `<package_name>`. If you're not working in a [virtual environment](https://docs.python.org/3/library/venv.html) one might need to add the `--user` flag, i.e. `pip install --user <package_name>`.\n",
    "\n",
    "Once we have installed/obtained the source files we can `import` the module into our python session, e.g. here is how we can import the `numpy` module:"
   ]
  },
  {
   "cell_type": "code",
   "execution_count": null,
   "id": "ba73dd4b-1e95-4473-a8e1-1ad085439536",
   "metadata": {},
   "outputs": [],
   "source": [
    "import numpy as np"
   ]
  },
  {
   "cell_type": "markdown",
   "id": "d548e24e-7cb8-4c57-8338-fa1e82bad879",
   "metadata": {},
   "source": [
    "We now have access to the contents of the `numpy` module and can refer to this as `np`. For example suppose we want to create an array of ten zeros using `numpy's` [zeros](https://numpy.org/doc/stable/reference/generated/numpy.zeros.html) function, we could do"
   ]
  },
  {
   "cell_type": "code",
   "execution_count": null,
   "id": "2e768deb-12b9-421c-a9bc-c836a07b4043",
   "metadata": {},
   "outputs": [],
   "source": [
    "import numpy as np\n",
    "the_zeros = np.zeros(10)\n",
    "print(the_zeros)"
   ]
  },
  {
   "cell_type": "markdown",
   "id": "8370d3d9-f8bd-4ee0-8efd-011d00c7ccbd",
   "metadata": {},
   "source": [
    "If we know we only want a subset of the functionality that a module provides we can specify this when we import. For example"
   ]
  },
  {
   "cell_type": "code",
   "execution_count": null,
   "id": "de93da8b-2e17-4177-a9b5-f58aeaf844bd",
   "metadata": {},
   "outputs": [],
   "source": [
    "from numpy import zeros, ones\n",
    "the_zeros = zeros(5)\n",
    "the_ones = ones(3)\n",
    "print(the_zeros, the_ones)"
   ]
  }
 ],
 "metadata": {
  "kernelspec": {
   "display_name": "Python 3 (ipykernel)",
   "language": "python",
   "name": "python3"
  },
  "language_info": {
   "codemirror_mode": {
    "name": "ipython",
    "version": 3
   },
   "file_extension": ".py",
   "mimetype": "text/x-python",
   "name": "python",
   "nbconvert_exporter": "python",
   "pygments_lexer": "ipython3",
   "version": "3.11.4"
  }
 },
 "nbformat": 4,
 "nbformat_minor": 5
}
