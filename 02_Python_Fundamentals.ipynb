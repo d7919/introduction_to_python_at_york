{
 "cells": [
  {
   "cell_type": "markdown",
   "id": "34be30b7-9a75-4906-ab43-513a70e18822",
   "metadata": {},
   "source": [
    "# Python fundamentals"
   ]
  }
 ],
 "metadata": {
  "kernelspec": {
   "display_name": "Python 3 (ipykernel)",
   "language": "python",
   "name": "python3"
  },
  "language_info": {
   "codemirror_mode": {
    "name": "ipython",
    "version": 3
   },
   "file_extension": ".py",
   "mimetype": "text/x-python",
   "name": "python",
   "nbconvert_exporter": "python",
   "pygments_lexer": "ipython3",
   "version": "3.11.4"
  }
 },
 "nbformat": 4,
 "nbformat_minor": 5
}
