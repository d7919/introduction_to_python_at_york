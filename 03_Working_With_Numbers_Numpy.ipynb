{
 "cells": [
  {
   "cell_type": "markdown",
   "id": "2020e7f6-f26f-4c59-9374-418a22f8ee71",
   "metadata": {},
   "source": [
    "# Working efficiently with numbers : numpy\n",
    "\n",
    "In scientific computing we primarily deal with data consisting of numbers (either experimental measurements or the result of solving equations) so having an efficient and effective approach to working with numbers is vital. We saw in the python fundamentals section that python knows about standard numerical types, including complex numbers. Whilst one can work with pure python to do numerical operations this is not typically the most effective approach for many scientific applications. \n",
    "\n",
    "Consider, for example, running an experiment where you take six repeat measurements of a length and you want to do some calculations with this. Your first step might be to put the values into a list:"
   ]
  },
  {
   "cell_type": "code",
   "execution_count": null,
   "id": "c079bbc1-f1a3-49a7-8344-e807b4776d80",
   "metadata": {},
   "outputs": [],
   "source": [
    "measurements = [10.0, 10.5, 10.4, 10.0, 9.9, 15.0]"
   ]
  },
  {
   "cell_type": "markdown",
   "id": "f3b2e21a-18b5-487b-a0f5-b73b0131266c",
   "metadata": {},
   "source": [
    "Now you might realise that you've recorded the values in mm but need them in metres for the rest of your work. Fine, just multiply them by 0.001 right? Well if you try `measurements = measurements * 0.001` you'll get an error message:\n",
    "\n",
    "~~~python\n",
    "---------------------------------------------------------------------------\n",
    "TypeError                                 Traceback (most recent call last)\n",
    "Cell In[3], line 1\n",
    "----> 1 measurements = measurements * 0.001\n",
    "\n",
    "TypeError: can't multiply sequence by non-int of type 'float'\n",
    "~~~\n",
    "\n",
    "which is telling us python doesn't know how to multiply a list (`measurements`) by a floating point number (0.001). Recall from the python fundamentals that when we multiplied a list by 2 it gave us two copies of the list instead of multiplying each value by 2. There was a task to use a loop to do this, and your solution may look like the below, which now scales each of our values by 0.001. "
   ]
  },
  {
   "cell_type": "code",
   "execution_count": null,
   "id": "cf851e9c-ba0d-4ad4-8c5d-9cf17f00f08f",
   "metadata": {},
   "outputs": [],
   "source": [
    "the_values = [10.0, 10.5, 10.4, 10.0, 9.9, 15.0]\n",
    "\n",
    "for i, value in enumerate(the_values):\n",
    "    the_values[i] = value * 0.001"
   ]
  },
  {
   "cell_type": "markdown",
   "id": "3966135c-0daa-489d-8f2d-3633623eaa08",
   "metadata": {},
   "source": [
    "OK so we've now scaled everything into metres, why do we need a different approach? Well, there are many reasons. Firstly always looping over lists of values leads to verbose code, it would be much nicer if we could just write `the_values = the_values * 0.001` here. Secondly for each operation python has to check the data types of the values involved to work out what to do -- recall that lists can store different data types, `value * 0.001` might have to do different things depending on what type value is. This means that looping over lists can be quite slow.\n",
    "\n",
    "Fortunately, the [`numpy` module](https://numpy.org) provides data types and a wide range of functions for dealing with numbers efficiently. We saw in the python fundamentals section that `numpy` provides routines for providing a number of zeros, for example. When printing these they look just like a list full of zeros, importantly however they are not a list but rather an \"array\" which is a new type defined by numpy (`ndarray`) designed specifically for efficient numerical operation. We can create empty arrays but we can also convert lists to arrays. For example, we can convert our measurements to an array and then scale all values by 0.001:"
   ]
  },
  {
   "cell_type": "code",
   "execution_count": null,
   "id": "d376ef09-b2d0-43c5-aa7e-2178dffba9fb",
   "metadata": {},
   "outputs": [],
   "source": [
    "from numpy import array\n",
    "measurements_array = array(measurements) * 0.001\n",
    "print(measurements_array)"
   ]
  },
  {
   "cell_type": "markdown",
   "id": "aa622d81-1bbd-4e31-9574-1f0e544ae9dd",
   "metadata": {},
   "source": [
    "There are many advanced features of arrays which can help you write efficient code and there are some lectures and exercises at [scipy-lectures.org](https://scipy-lectures.org/intro/numpy/index.html) which go into more detail. As a minimum we need to know how to create arrays and access values."
   ]
  },
  {
   "cell_type": "markdown",
   "id": "db817daf-5bec-4b7a-a577-0a087a4f00c8",
   "metadata": {},
   "source": [
    "## Creating arrays\n",
    "\n",
    "We've already seen that we can create an array by converting an existing list, however often we will want to work with arrays from the outset. There are several ways we can create arrays and some examples are:"
   ]
  },
  {
   "cell_type": "code",
   "execution_count": null,
   "id": "38cfde33-9527-454e-a048-e7ea826e2287",
   "metadata": {},
   "outputs": [],
   "source": [
    "import numpy as np\n",
    "# Create an array of length 10 filled with floating point zeros\n",
    "ten_zeros = np.zeros(10)\n",
    "print(ten_zeros)\n",
    "# Create an array of length 4 filled with complex one\n",
    "four_ones = np.ones(4, dtype = 'complex')\n",
    "print(four_ones)\n",
    "# Create an empty array of length 3\n",
    "two_but_empty = np.empty(3)\n",
    "print(two_but_empty) #This will show some uninitialised values, it could be zero or something very small\n",
    "# Create an array from a list\n",
    "array_from_list = np.array([1,2,3,4,5,6])\n",
    "print(array_from_list)"
   ]
  },
  {
   "cell_type": "markdown",
   "id": "198c1bb0-238b-4a87-a45d-058ef16ada01",
   "metadata": {},
   "source": [
    "There are also a number of utilities for producing arrays with certain values in. A very common one is [`linspace`](https://numpy.org/doc/stable/reference/generated/numpy.linspace.html) which gives an array containing evenly spaced points between start and end, e.g."
   ]
  },
  {
   "cell_type": "code",
   "execution_count": null,
   "id": "19f006dc-3aac-4bb9-82a2-c3707ab72637",
   "metadata": {},
   "outputs": [],
   "source": [
    "#Create an array containing 11 evenly spaced values between 0.0 and 1.0\n",
    "values = np.linspace(0.0, 1.0, 11)\n",
    "print(values)"
   ]
  },
  {
   "cell_type": "markdown",
   "id": "904f2229-dff0-4dde-8f46-291da3f552a2",
   "metadata": {},
   "source": [
    "Finally, it is possible to make arrays with more than one dimension (e.g. a 2D array might look quite similar to a matrix) as shown below. Note here we also print the `shape` property of the array to show size of the dimensions."
   ]
  },
  {
   "cell_type": "code",
   "execution_count": null,
   "id": "7b21c186-ce35-4864-ab53-3e48dd66de28",
   "metadata": {},
   "outputs": [],
   "source": [
    "#Creates an array with two dimensions (of sizes 2 and 3 respectively)\n",
    "a_2D_array_of_ones = np.ones([2,3])\n",
    "print(a_2D_array_of_ones)\n",
    "print(a_2D_array_of_ones.shape)"
   ]
  },
  {
   "cell_type": "markdown",
   "id": "699fe0b7-bc05-4aae-82ac-27c143f4d5db",
   "metadata": {
    "jp-MarkdownHeadingCollapsed": true
   },
   "source": [
    "## Manipulating arrays\n",
    "\n",
    "Once you have an array most standard mathematical operations will work as one might expect (addition, subtraction, multiplication, division, exponentiation, etc.) but there are [many other operations](https://numpy.org/doc/stable/reference/routines.array-manipulation.html) one can apply. Going through all of these options is not in scope here, but I'll mention a few particularly useful ones.\n",
    "\n",
    "Much like lists, it is possible to add extra elements to an array using [`append`](https://numpy.org/doc/stable/reference/generated/numpy.append.html#numpy.append)"
   ]
  },
  {
   "cell_type": "code",
   "execution_count": null,
   "id": "e2446a21-54dc-4e57-8d58-01b5341d48e5",
   "metadata": {},
   "outputs": [],
   "source": [
    "my_array = np.ones(4)\n",
    "print(my_array)\n",
    "my_array = np.append(my_array, [2,3,4])\n",
    "print(my_array)"
   ]
  },
  {
   "cell_type": "markdown",
   "id": "e854897a-986b-4b8d-8b0c-6b14f6ee91f8",
   "metadata": {},
   "source": [
    "It's also possible to change the shape of an array using [`reshape`](https://numpy.org/doc/stable/reference/generated/numpy.reshape.html#numpy.reshape)"
   ]
  },
  {
   "cell_type": "code",
   "execution_count": null,
   "id": "23cf8e9b-8770-4f34-9093-9937ef2b0908",
   "metadata": {},
   "outputs": [],
   "source": [
    "my_array = np.ones(6)\n",
    "print(my_array, my_array.shape)\n",
    "my_array = np.reshape(my_array, [2,3])\n",
    "print(my_array, my_array.shape)"
   ]
  },
  {
   "cell_type": "markdown",
   "id": "abe06d14-9a47-4437-afcb-fc7d6f831d2e",
   "metadata": {},
   "source": [
    "## Indexing arrays\n",
    "\n",
    "Much like lists, we can access individual elements in an array using `[]`. We can also ask for a range or subset of the values, this is often known as a slice and in general looks like `[<start>:<end>:<step>]` where the range starts at the index given by `<start>` and goes up to but *doesn't include* the value with index `<end>` taking steps of `<step>`. Each of these three values are optional, if `<start>` is not given it defaults to the start of the array, if `<end>` isn't given it defaults to the end of the array and `<step>` defaults to 1."
   ]
  },
  {
   "cell_type": "code",
   "execution_count": null,
   "id": "c1991f4d-7c00-4517-a97e-ddd1133412e5",
   "metadata": {},
   "outputs": [],
   "source": [
    "my_array = np.array([0,1,2,3,4,5,6])\n",
    "# Print the whole array\n",
    "print(my_array)\n",
    "# Print the third element\n",
    "print(my_array[2])\n",
    "# Print the second to fourth values\n",
    "print(my_array[1:4])\n",
    "# Print every other value starting at the first one\n",
    "print(my_array[1::2])\n",
    "# Print the whole array\n",
    "print(my_array[:])\n",
    "# Print the whole array backwards (taking a step of -1!)\n",
    "print(my_array[::-1])\n"
   ]
  },
  {
   "cell_type": "markdown",
   "id": "31550994-40cb-4885-8764-0cc73d9bc138",
   "metadata": {},
   "source": [
    "Whilst the example showed us simply printing subsets we can operate on these as well. Suppose we've got an array of six numbers and we just want to halve the first two values, we could do"
   ]
  },
  {
   "cell_type": "code",
   "execution_count": null,
   "id": "75685bd6-fefe-4cfc-b1fc-bf7749df52f2",
   "metadata": {},
   "outputs": [],
   "source": [
    "my_array = np.array([0,1,2,3,4,5])\n",
    "my_array[:2] = my_array[:2] / 2\n",
    "print(my_array)"
   ]
  },
  {
   "cell_type": "markdown",
   "id": "fddb901b-fc25-4da2-ae1f-84035a4a9b38",
   "metadata": {},
   "source": [
    "We can even use arrays to specify which indices we want to act on"
   ]
  },
  {
   "cell_type": "code",
   "execution_count": null,
   "id": "f4664608-e257-4f0f-a438-23380a475862",
   "metadata": {},
   "outputs": [],
   "source": [
    "my_array = np.array([0,1,2,3,4,5])\n",
    "indices = np.array([0,3])\n",
    "my_array[indices] = 10.0\n",
    "print(my_array)"
   ]
  },
  {
   "cell_type": "markdown",
   "id": "38d2894d-744a-4bc0-95f6-55389a246a3d",
   "metadata": {},
   "source": [
    "Finally, we can use logic to only set values where certain conditions are met. For example suppose we have some measurements and we want to zero values which are larger than 1.5 times the mean we could do the following"
   ]
  },
  {
   "cell_type": "code",
   "execution_count": null,
   "id": "6270ddb3-911c-4d10-b061-406ee124a344",
   "metadata": {},
   "outputs": [],
   "source": [
    "measurements = np.array([5.0,6.0,4.5,7.0,5.5,10.0,2.0,1.0,4.0,3.0,1.0,2.0,4.0])\n",
    "the_mean = np.mean(measurements) #Yes there's a function to calculate the mean (and the standard deviation etc)\n",
    "print(the_mean)\n",
    "# Where the meausrements are larger than 1.5 *the_mean set them to zero)\n",
    "measurements[ measurements > 1.5 * the_mean ] = 0.0\n",
    "print(measurements)"
   ]
  },
  {
   "cell_type": "markdown",
   "id": "9a9095fd-93ca-4a22-bb10-fd82a3e515ea",
   "metadata": {},
   "source": [
    "When dealing with arrays with dimensions greater than 1 you simply index each dimension with a comma separating the indices. For example suppose we make a 3D array and we want to print all of the values along the first dimension for some point in the other two dimensions, this might look like:"
   ]
  },
  {
   "cell_type": "code",
   "execution_count": null,
   "id": "cb9071a9-d08e-4236-803d-3c2e48165d19",
   "metadata": {},
   "outputs": [],
   "source": [
    "my_array = np.linspace(0.0,23.0,24).reshape([2,3,4])\n",
    "print(my_array.shape) #Suppose this is nx, ny and nz\n",
    "# Print all of the first dimension for a y index of 1 and a z index of 2\n",
    "print(my_array[:, 1, 2])"
   ]
  },
  {
   "cell_type": "markdown",
   "id": "4f4e9930-9ff5-4ed8-acfd-3c9d6ac4b708",
   "metadata": {},
   "source": [
    "## Other useful numpy functionality.\n",
    "\n",
    "Numpy offers a wide range of methods which we haven't covered here including methods for working with random numbers, linear algebra, polynomials etc. Here we just highlight a few especially useful tools which you are likely to want to use.\n",
    "\n",
    "### Saving and loading data\n",
    "So far in our examples we've worked assuming that you have typed in measurements/data etc. Clearly this is error prone and cumbersome. In reality, one will often use digital acquisition as a part of the experiment (i.e. measurements are automatically captured and stored directly on the computer) or record manual measurements in a spreadsheet or some other tabular form. The [pandas module](https://pandas.pydata.org/) provides many methods for reading different data formats and manipulating large amounts of data. For less complicated situations then numpy offers a [`loadtxt`](https://numpy.org/doc/stable/reference/generated/numpy.loadtxt.html) method which is designed for reading comma (or tab, space etc.) separated tabular data from a file directly into numpy arrays. There's an equivalent [`savetxt`](https://numpy.org/doc/stable/reference/generated/numpy.savetxt.html) method which is very helpful for saving data to file in a simple format. Here we save some data and then read it into a different array"
   ]
  },
  {
   "cell_type": "code",
   "execution_count": null,
   "id": "2a9a8dbd-b285-4a95-85a0-fee5a9e520fe",
   "metadata": {},
   "outputs": [],
   "source": [
    "my_array = np.array([0,1,2,3,4,5])\n",
    "np.savetxt('saved.txt', my_array)\n",
    "new_array = np.loadtxt('saved.txt')\n",
    "print(new_array)"
   ]
  },
  {
   "cell_type": "markdown",
   "id": "69739ea6-2c31-436b-a92b-f8c04acd8487",
   "metadata": {},
   "source": [
    "### Fitting polynomials\n",
    "\n",
    "Whilst we will encounter more powerful approaches to fitting data numpy provides several methods for fitting data with simple polynomials. These are the [`polyfit`](https://numpy.org/doc/stable/reference/generated/numpy.polyfit.html#numpy.polyfit) function and it's more recent replacement the [`Polynomial type`](https://numpy.org/doc/stable/reference/generated/numpy.polynomial.polynomial.Polynomial.fit.html#numpy.polynomial.polynomial.Polynomial.fit). Here's an example of using both approaches to fit a quadratic to some data"
   ]
  },
  {
   "cell_type": "code",
   "execution_count": null,
   "id": "1aaa8a38-c992-4008-9e4f-02b31d91a5e5",
   "metadata": {},
   "outputs": [],
   "source": [
    "#First lets define a function which gives us quadratic data\n",
    "def quad(x, a, b, c):\n",
    "    return a * x * x + b * x + c\n",
    "#Now let's make some data\n",
    "x = np.linspace(0.0,2.0,24) #x values\n",
    "y = quad(x, 1.0, 0.5, 0.25) #y values\n",
    "\n",
    "#Now we can try to fit a quadratic to this using polyfit\n",
    "first_fit = np.polyfit(x, y, 2)\n",
    "print(first_fit) # Expect [1, 0.5, 0.25] to match a, b, c values used\n",
    "\n",
    "#Now with the polynomial class\n",
    "second_fit = np.polynomial.Polynomial.fit(x, y, 2, window = [x[0], x[-1]])\n",
    "print(second_fit.coef) # Expect [0.25, 0.5, 1] to match a, b, c values used"
   ]
  },
  {
   "cell_type": "markdown",
   "id": "84b4299d-4213-40b3-bec2-898136508bb6",
   "metadata": {},
   "source": [
    "Note how both return the same (expected) fitting coefficients. The second approach looks a lot more complicated but it can offer a lot of advantages in some scenarios, so it's useful to know both forms!"
   ]
  }
 ],
 "metadata": {
  "kernelspec": {
   "display_name": "Python 3 (ipykernel)",
   "language": "python",
   "name": "python3"
  },
  "language_info": {
   "codemirror_mode": {
    "name": "ipython",
    "version": 3
   },
   "file_extension": ".py",
   "mimetype": "text/x-python",
   "name": "python",
   "nbconvert_exporter": "python",
   "pygments_lexer": "ipython3",
   "version": "3.11.4"
  }
 },
 "nbformat": 4,
 "nbformat_minor": 5
}
