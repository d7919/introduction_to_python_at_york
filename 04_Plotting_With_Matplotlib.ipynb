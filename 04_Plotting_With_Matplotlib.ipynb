{
 "cells": [
  {
   "cell_type": "markdown",
   "id": "0f97fc98-c968-4a05-ba8c-9f0e5977dbd8",
   "metadata": {},
   "source": [
    "# Plotting with matplotlib\n",
    "\n",
    "So far we have resorting to printing data to screen whenever we've wanted to inspect the status of variables. Clearly being able to represent data visually is key to being able to interpreting what the data shows. Here we will explore how to make publication quality plots using the module [`matplotlib`](https://matplotlib.org).\n",
    "\n",
    "Before we dig into the details it is well worth pointing out that `matplotlib` offers some very helpful resources for finding how to make and customise many different types of plots. In particular, it is always worth reviewing their [gallery](https://matplotlib.org/stable/gallery/index.html) or more focused [plot types](https://matplotlib.org/stable/plot_types/index.html) which show a large number of differnt plots. Clicking on any of these plots shows you the code used to generate it. This is very helpful when trying to find out how to do something. They also provide some [cheatsheets](https://matplotlib.org/cheatsheets/) which can also be handy to refer to when you can't remember a command/option."
   ]
  },
  {
   "cell_type": "markdown",
   "id": "b3df7827-87ae-45d2-8a6c-25d50fc1759c",
   "metadata": {},
   "source": [
    "## Importing\n",
    "\n",
    "In almost all examples across many resources people tend to use the following convention to import matplotlib"
   ]
  },
  {
   "cell_type": "code",
   "execution_count": null,
   "id": "976e9608-b957-468c-83bd-ea59e03cab56",
   "metadata": {},
   "outputs": [],
   "source": [
    "import matplotlib.pyplot as plt"
   ]
  },
  {
   "cell_type": "markdown",
   "id": "7942c87d-ad2e-4fbe-aca0-a5c0869bcfbc",
   "metadata": {},
   "source": [
    "and we will stick with this convention here. We will also import `numpy` to help us with generating some data to plot."
   ]
  },
  {
   "cell_type": "code",
   "execution_count": null,
   "id": "dd76dcd0-b431-485e-9fd3-33d849f3a02b",
   "metadata": {},
   "outputs": [],
   "source": [
    "import numpy as np"
   ]
  },
  {
   "cell_type": "markdown",
   "id": "d4e0cd51-0a48-471c-8f4f-ac57849feb55",
   "metadata": {},
   "source": [
    "## Visualising an array\n",
    "\n",
    "Suppose we have a set of measurements in an array and we just want to get an idea for what this data looks like, we can simply plot with"
   ]
  },
  {
   "cell_type": "code",
   "execution_count": null,
   "id": "a1aef588-b6c3-4b4d-9409-954b6263556f",
   "metadata": {},
   "outputs": [],
   "source": [
    "# First generate some pretend data\n",
    "data = np.array([10.0,10.123,14.0,9.05,4.0,15.0])\n",
    "plt.plot(data)\n",
    "plt.show()"
   ]
  },
  {
   "cell_type": "markdown",
   "id": "668f8bda-8f42-4a7e-a8e6-54e8a6d2baf5",
   "metadata": {},
   "source": [
    "This will show a jagged blue line varying between 4 and 15 across an x-range of 0 to 5. Assuming these are repeat measurements of some quantity it doesn't really make sense for us to draw a line between the values, we can change that my adding a marker and removing the line:"
   ]
  },
  {
   "cell_type": "code",
   "execution_count": null,
   "id": "159fcc10-be5c-4615-be8b-0b3b67b6f22a",
   "metadata": {},
   "outputs": [],
   "source": [
    "plt.plot(data, linestyle='', marker='o')\n",
    "plt.show()"
   ]
  },
  {
   "cell_type": "markdown",
   "id": "39bf0167-2356-4623-a82e-86093c3fd7f5",
   "metadata": {},
   "source": [
    "## Plotting y against x\n",
    "\n",
    "More typically we might want to plot some values against some other quantity, for example suppose we measure the period of a pendulum oscilating as the length changes and we want to plot this."
   ]
  },
  {
   "cell_type": "code",
   "execution_count": null,
   "id": "e83d1678-967e-4389-b747-bebdb7e8d4c6",
   "metadata": {},
   "outputs": [],
   "source": [
    "# Record our measurements\n",
    "length = np.array([1,2,3,4,5]) # Known lengths\n",
    "period = np.array([2.00486328, 2.83530484, 3.47252507, 4.00972656, 4.48301058]) # Measured periods\n",
    "\n",
    "#Plot period vs length\n",
    "plt.plot(length, period, marker = 'x', color = 'green')\n",
    "plt.show()"
   ]
  },
  {
   "cell_type": "markdown",
   "id": "94648159-e228-426b-a72e-970d29114631",
   "metadata": {},
   "source": [
    "This looks OK, but how will anyone know what this plot represents? We need to add labels:"
   ]
  },
  {
   "cell_type": "code",
   "execution_count": null,
   "id": "058fd2fd-4a47-4492-8055-ab8c6a2fd44e",
   "metadata": {},
   "outputs": [],
   "source": [
    "#Plot period vs length\n",
    "plt.plot(length, period, marker = 'x', color = 'green')\n",
    "plt.xlabel('Length (m)')\n",
    "plt.ylabel('Period (s)')\n",
    "plt.title('Measured pendulum period as a function of string length')\n",
    "plt.show()"
   ]
  },
  {
   "cell_type": "markdown",
   "id": "a1efacde-32b4-4629-b678-d17aab000e4f",
   "metadata": {},
   "source": [
    "Suppose we want to indicate that there's some uncertainty on our measurements? We can use the [`errorbar`](https://matplotlib.org/stable/api/_as_gen/matplotlib.axes.Axes.errorbar.html#matplotlib.axes.Axes.errorbar) plot type:"
   ]
  },
  {
   "cell_type": "code",
   "execution_count": null,
   "id": "2dddcebb-b282-414e-9188-27c933ce1f75",
   "metadata": {},
   "outputs": [],
   "source": [
    "#Plot period vs length\n",
    "plt.errorbar(length, period, xerr = 0.0, yerr=0.1, marker = 'o', color = 'green', ecolor = 'red')\n",
    "plt.xlabel('Length (m)')\n",
    "plt.ylabel('Period (s)')\n",
    "plt.title('Measured pendulum period as a function of string length')\n",
    "plt.show()"
   ]
  },
  {
   "cell_type": "markdown",
   "id": "335a7384-bc23-434b-8779-d583cbd9936c",
   "metadata": {},
   "source": [
    "## Plotting multiple curves\n",
    "\n",
    "Suppose we repeat our pendulum experiment three times, do we need to make three plots? No we can simply add more plot statements before we show the image."
   ]
  },
  {
   "cell_type": "code",
   "execution_count": null,
   "id": "b5984a5c-3a8a-44f6-a373-ec517b60583e",
   "metadata": {},
   "outputs": [],
   "source": [
    "# Add other measurements\n",
    "period2 = np.array([2.0312352 , 2.87260036, 3.51820256, 4.0624704 , 4.54197998])\n",
    "period3 = np.array([1.95467808, 2.76433225, 3.38560174, 3.90935615, 4.37079305])\n",
    "\n",
    "#Plot period vs length, we use label to add a name to each curve\n",
    "plt.errorbar(length, period, xerr = 0.0, yerr=0.1, marker = 'o', ecolor = 'red', label = 'Case 1')\n",
    "plt.errorbar(length, period2, xerr = 0.0, yerr=0.1, marker = 'o', ecolor = 'red', label = 'Case 2')\n",
    "plt.errorbar(length, period3, xerr = 0.0, yerr=0.1, marker = 'o', ecolor = 'red', label = 'Case 3')\n",
    "plt.xlabel('Length (m)')\n",
    "plt.ylabel('Period (s)')\n",
    "plt.title('Measured pendulum period as a function of string length')\n",
    "# Show a legend so we know which curve is which\n",
    "plt.legend(loc='best')\n",
    "plt.show()"
   ]
  },
  {
   "cell_type": "markdown",
   "id": "8ec86459-bb8b-45e6-95c0-394946367a69",
   "metadata": {},
   "source": [
    "It can be helpful to transform the plot from a linear scale to a log one. We can use `xscale` and `yscale` to control this, e.g."
   ]
  },
  {
   "cell_type": "code",
   "execution_count": null,
   "id": "b47af34e-b8f6-45d6-bb21-8cb593114349",
   "metadata": {},
   "outputs": [],
   "source": [
    "#Plot period vs length, we use label to add a name to each curve\n",
    "plt.errorbar(length, period, xerr = 0.0, yerr=0.1, marker = 'o', ecolor = 'red', label = 'Case 1')\n",
    "plt.errorbar(length, period2, xerr = 0.0, yerr=0.1, marker = 'o', ecolor = 'red', label = 'Case 2')\n",
    "plt.errorbar(length, period3, xerr = 0.0, yerr=0.1, marker = 'o', ecolor = 'red', label = 'Case 3')\n",
    "plt.xlabel('Length (m)')\n",
    "plt.ylabel('Period (s)')\n",
    "plt.title('Measured pendulum period as a function of string length')\n",
    "plt.xscale('log')\n",
    "plt.yscale('log')\n",
    "# Show a legend so we know which curve is which\n",
    "plt.legend(loc='best')\n",
    "# Add a grid just because it looks nice and helps demonstrate the logarithmic scale\n",
    "plt.grid(True, 'both')\n",
    "plt.show()"
   ]
  },
  {
   "cell_type": "markdown",
   "id": "eb7d11d6-f9fe-41c5-96e9-5e6c3d6c23f2",
   "metadata": {},
   "source": [
    "Note how these now look like straight lines, this suggests a powerlaw like dependence (i.e. period is proportional to length to some power)."
   ]
  },
  {
   "cell_type": "markdown",
   "id": "bb16cfd0-ab15-4dd5-82af-f072a6e9eb90",
   "metadata": {},
   "source": [
    "## Saving figures\n",
    "\n",
    "It is very helpful to be able to save the figures you create directly, rather than say taking a screenshot. Fortunately `matplotlib` provides the [`savefig`](https://matplotlib.org/stable/api/_as_gen/matplotlib.pyplot.savefig.html) method to allow this. One simply calls this method after creating the plot but before doing `plt.show()`. It's possible to control the format used (png, pdf etc.). A simple example is"
   ]
  },
  {
   "cell_type": "code",
   "execution_count": null,
   "id": "855f2c76-e3e0-435a-9dbe-2d20645c4554",
   "metadata": {},
   "outputs": [],
   "source": [
    "#Plot period vs length, we use label to add a name to each curve\n",
    "plt.errorbar(length, period, xerr = 0.0, yerr=0.1, marker = 'o', ecolor = 'red', label = 'Case 1')\n",
    "plt.errorbar(length, period2, xerr = 0.0, yerr=0.1, marker = 'o', ecolor = 'red', label = 'Case 2')\n",
    "plt.errorbar(length, period3, xerr = 0.0, yerr=0.1, marker = 'o', ecolor = 'red', label = 'Case 3')\n",
    "plt.xlabel('Length (m)')\n",
    "plt.ylabel('Period (s)')\n",
    "plt.title('Measured pendulum period as a function of string length')\n",
    "plt.xscale('log')\n",
    "plt.yscale('log')\n",
    "# Show a legend so we know which curve is which\n",
    "plt.legend(loc='best')\n",
    "# Add a grid just because it looks nice and helps demonstrate the logarithmic scale\n",
    "plt.grid(True, 'both')\n",
    "plt.savefig('example.png', dpi = 300) #Set a high dpi for this example"
   ]
  },
  {
   "cell_type": "markdown",
   "id": "d80bcbed-5897-4397-acf4-3956c41f8b60",
   "metadata": {},
   "source": [
    "## Using LaTeX in labels\n",
    "\n",
    "We often would like to make use of symbols, superscripts etc. This is relatively straightforward in matplotlib using LaTeX notation. For example suppose we want to plot the electrostatic potential, $\\phi$, squared against some distance $\\rho_e$ we can do the following"
   ]
  },
  {
   "cell_type": "code",
   "execution_count": null,
   "id": "665525f8-6a27-4c3c-8a3a-1cdae9b11aab",
   "metadata": {},
   "outputs": [],
   "source": [
    "rho = [0,1,2,3,4]\n",
    "phi = [5,4,3,2,1]\n",
    "plt.plot(rho, phi)\n",
    "plt.xlabel(r'$\\rho_e$')\n",
    "plt.ylabel(r'$\\phi^2$')\n",
    "plt.show()"
   ]
  },
  {
   "cell_type": "markdown",
   "id": "5d33639d-ad06-4682-83c9-e5ef0c1948fe",
   "metadata": {},
   "source": [
    "Specifically we put `r` in front of the first quote (this makes the string a raw string -- means python doesn't try to change it). Then inside the string we can start a LaTex section by adding a `$` then when we're finished writing LaTeX we add another `$`."
   ]
  }
 ],
 "metadata": {
  "kernelspec": {
   "display_name": "Python 3 (ipykernel)",
   "language": "python",
   "name": "python3"
  },
  "language_info": {
   "codemirror_mode": {
    "name": "ipython",
    "version": 3
   },
   "file_extension": ".py",
   "mimetype": "text/x-python",
   "name": "python",
   "nbconvert_exporter": "python",
   "pygments_lexer": "ipython3",
   "version": "3.11.4"
  }
 },
 "nbformat": 4,
 "nbformat_minor": 5
}
