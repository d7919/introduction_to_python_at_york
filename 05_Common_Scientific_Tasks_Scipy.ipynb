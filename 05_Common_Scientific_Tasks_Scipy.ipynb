{
 "cells": [
  {
   "cell_type": "markdown",
   "id": "4c78a8e4-dbbf-48ea-a47b-bfcac3fd87f7",
   "metadata": {},
   "source": [
    "# Using scipy for common scientific tasks\n",
    "\n",
    "Within scientific tasks there are a wide range of mathematical and analysis techniques which we might want to employ, fortunately the [`scipy`](https://scipy.org) module provides a wide range of functionality which supports such common tasks. Due to the breadth of tasks `scipy` is structured as a collection of sub-packages each of which deals with a particular area. There's a list of the subpackages on the [scipy user guide](https://docs.scipy.org/doc/scipy/tutorial/index.html#user-guide). We won't use all of these in the computational plasma physics course, but you're likely to use a large fraction of these through your time at York. Of particular note are:\n",
    "\n",
    "1. [integrate](https://docs.scipy.org/doc/scipy/reference/integrate.html#module-scipy.integrate) : Tools to integrate the area under curves _and_ to integrate equations.\n",
    "2. [linalg](https://docs.scipy.org/doc/scipy/reference/linalg.html#module-scipy.linalg) : Tools for linear algebra (solving matrix equations).\n",
    "3. [optimize](https://docs.scipy.org/doc/scipy/reference/optimize.html#module-scipy.optimize) : Minimisation and optimisation of functions (e.g. curve fitting)\n",
    "4. [stats](https://docs.scipy.org/doc/scipy/reference/stats.html#module-scipy.stats) : Statistical tools\n",
    "5. [interpolate](https://docs.scipy.org/doc/scipy/reference/interpolate.html#module-scipy.interpolate) : Interpolate data to allow smoothing etc.\n",
    "\n",
    "We won't cover all of these subpackages here and we won't need all aspects of each of these, but it might be worth having a look through to give yourself an idea of what these provide.\n",
    "\n",
    "Here we'll focus on integrating the area under a curve, interpolating and fitting data."
   ]
  },
  {
   "cell_type": "markdown",
   "id": "1446b08a-b242-413e-a357-269480742ddd",
   "metadata": {},
   "source": [
    "## Integrating the area under a curve\n",
    "\n",
    "There are actually two distinct situations in which one might wish to integrate the area under a curve (or function):\n",
    "\n",
    "1. Where we know the value on a fixed number of points, e.g. we've measured some quantity at discrete fixed locations.\n",
    "2. Where we have a mathematical/numerical function which we can evaluate at any number of points we want.\n",
    "\n",
    "The first situation is relatively straightforward to calculate by hand using something like the [Trapezium rule](https://en.wikipedia.org/wiki/Trapezoidal_rule) and `scipy` provides implementations of [trapezoidal integration](https://docs.scipy.org/doc/scipy/reference/generated/scipy.integrate.trapezoid.html#scipy.integrate.trapezoid) and similar methods like Simpson or Romberg. For example suppose we've measured the height of an object at several points and want to work out the surface area of one of the faces:"
   ]
  },
  {
   "cell_type": "code",
   "execution_count": null,
   "id": "62fb4ded-797c-48e9-a145-e0df77443c51",
   "metadata": {},
   "outputs": [],
   "source": [
    "#First record our measurements\n",
    "x_locations = [0, 1, 2, 3, 4]\n",
    "heights = [5., 4.04107573, 4.45597889, 5.65028784, 5.91294525]\n",
    "\n",
    "#Now lets plot this\n",
    "import matplotlib.pyplot as plt\n",
    "plt.plot(x_locations, heights, marker = 'o')\n",
    "plt.fill_between(x_locations, 0, heights, alpha = 0.3) #Shade the area we want to integrate\n",
    "plt.xlabel('X - Location (m)')\n",
    "plt.ylabel('Height (m)')\n",
    "plt.show()\n",
    "\n",
    "#Import the different integration methods\n",
    "from scipy.integrate import trapezoid, simpson\n",
    "\n",
    "area_trapezoid = trapezoid(heights, x_locations)\n",
    "area_simpson = simpson(heights, x_locations)\n",
    "print(f\"The area using the trapezoidal rule is {area_trapezoid} m^2\")\n",
    "print(f\"The area using the simpson method is {area_simpson} m^2\")"
   ]
  },
  {
   "cell_type": "markdown",
   "id": "88ac5ca6-faa9-4865-bdba-6dd8633e7a61",
   "metadata": {},
   "source": [
    "Note the roughly 1% disagreement between the methods -- this is a consequence of the low number of points/high error on the integration.\n",
    "\n",
    "If we are integrating a function where we can actually evaluate the function with as many points as we want we can keep adding points until the error is below some threshold. Consider for example "
   ]
  },
  {
   "cell_type": "code",
   "execution_count": null,
   "id": "60e00724-4b0c-4dbe-a5c4-0e7c736f32a7",
   "metadata": {},
   "outputs": [],
   "source": [
    "from numpy import sin\n",
    "\n",
    "def func_to_integrate(x):\n",
    "    # This is actually the function used to generate the above data.\n",
    "    return 5 + sin(x*5)\n",
    "\n",
    "from scipy.integrate import quad\n",
    "area_quad, error_estimate = quad(func_to_integrate, 0.0, 4.0)\n",
    "\n",
    "print(f'The area using quad is {area_quad} m^2')\n",
    "print(f'The errror is estimated to be {error_estimate} m^2')"
   ]
  },
  {
   "cell_type": "markdown",
   "id": "3354ea45-4674-4a86-b327-cc9fd95e7023",
   "metadata": {},
   "source": [
    "The analytic result of the integral is indeed 20.118."
   ]
  },
  {
   "cell_type": "markdown",
   "id": "bfcd9a46-3b36-4658-9d5b-6f8dbd7624ef",
   "metadata": {},
   "source": [
    "## Interpolating data\n",
    "\n",
    "Given discrete data points sometime we want to be able to estimate what the data is in between data points. This is interpolation. There are several different approaches to interpolation provided by `scipy`. Here we will focus on simple 1D interpolation using [`interp1d`](https://docs.scipy.org/doc/scipy/reference/generated/scipy.interpolate.interp1d.html#scipy.interpolate.interp1d) (note `interp1d` is considered a legacy method so could be removed in the future). Given data on at discrete points this function returns an object which looks like a function and can be used to estimate the `y` value given any `x` in the original range. Suppose we want to interpolate the discrete height data from the integration section:"
   ]
  },
  {
   "cell_type": "code",
   "execution_count": null,
   "id": "8d4665fd-7514-438c-bbcc-c366382962ce",
   "metadata": {},
   "outputs": [],
   "source": [
    "from scipy.interpolate import interp1d\n",
    "interpolated_height = interp1d(x_locations, heights, kind = 'cubic')\n",
    "\n",
    "# We can evaluate the function on as many points as we like so lets choose 101 points\n",
    "from numpy import linspace\n",
    "x_location_high_res = linspace(0, 4, 101) \n",
    "# Ask the interpolated data what it thinks the height values are on this high res x grid\n",
    "interp_height_high_res = interpolated_height(x_location_high_res)\n",
    "\n",
    "# Now lets plot it all\n",
    "plt.plot(x_locations, heights, marker = 'o', label = 'Raw data')\n",
    "plt.fill_between(x_locations, 0, heights, alpha = 0.3)\n",
    "\n",
    "plt.plot(x_location_high_res, interp_height_high_res, label = 'Interpolated data')\n",
    "\n",
    "# Add labels and show the plot\n",
    "plt.legend(loc = 'best')\n",
    "plt.xlabel('X - Location (m)')\n",
    "plt.ylabel('Height (m)')\n",
    "plt.show()"
   ]
  },
  {
   "cell_type": "markdown",
   "id": "a0470ef7-e445-441a-991e-acd6ff166948",
   "metadata": {},
   "source": [
    "Note that we passed `kind = 'cubic'` to the interpolation method -- this essentially asks the interpolation to try to use cubic polynomials to describe the data. If we don't sepcify this then it will default to `kind = 'linear'` which corresponds to simply drawing straight lines between the data points."
   ]
  },
  {
   "cell_type": "markdown",
   "id": "04992b59-858d-4ef3-a14c-126c0047ac17",
   "metadata": {},
   "source": [
    "## Curve fitting\n",
    "\n",
    "Suppose we had our discrete measurements of height from the integration section but knew that this should follow the form `height(x) = a + sin(x * b)`, how can we deterimne the optimal `a` and `b`? The answer is to use curve fitting. We saw in the numpy document how we could fit polynomials, but what about more general functions? Well `scipy.optimize` provides the [`curve_fit`](https://docs.scipy.org/doc/scipy/reference/generated/scipy.optimize.curve_fit.html#scipy.optimize.curve_fit) method to help us with this. This requires three things:\n",
    "\n",
    "1. The x values of the sampled data\n",
    "2. The y values of the sampled data\n",
    "3. A python function which given a value of `x` and any parameters of the model returns a guess for `y`, in other words a python version of the function we're trying to fit.\n",
    "\n",
    "For the case we're considering we could do:"
   ]
  },
  {
   "cell_type": "code",
   "execution_count": null,
   "id": "ac16a9ee-030d-4dea-92c9-549653dc028b",
   "metadata": {},
   "outputs": [],
   "source": [
    "# Plot the raw data first so we can remember what this looks like\n",
    "plt.plot(x_locations, heights, marker = 'o', label = 'Raw data')\n",
    "plt.fill_between(x_locations, 0, heights, alpha = 0.3)\n",
    "\n",
    "# Define a function of the form we are trying to fit, y = a + sin(b * x)\n",
    "# It takes x, a and b and returns y\n",
    "def fitting_function(x, a, b):\n",
    "    return a + sin(x * b)\n",
    "\n",
    "# Get our curve fitting method\n",
    "from scipy.optimize import curve_fit\n",
    "\n",
    "# Fit the data\n",
    "initial_guess = [1.0, 4.0]\n",
    "fitted_parameters, covariance = curve_fit(fitting_function, x_locations, heights, p0 = initial_guess)\n",
    "print('The first fit found a, b = ', fitted_parameters)\n",
    "\n",
    "# Fit again and try a different guess\n",
    "initial_guess2 = [1.0, 4.5]\n",
    "fitted_parameters2, covariance2 = curve_fit(fitting_function, x_locations, heights, p0 = initial_guess2)\n",
    "print('The first fit found a, b = ', fitted_parameters2)\n",
    "\n",
    "# Plot the resulting fits\n",
    "y_fit_1 = fitting_function(x_location_high_res, fitted_parameters[0], fitted_parameters[1])\n",
    "y_fit_2 = fitting_function(x_location_high_res, fitted_parameters2[0], fitted_parameters2[1])\n",
    "\n",
    "plt.plot(x, y_fit_1, label = 'Fit 1')\n",
    "plt.plot(x, y_fit_2, label = 'Fit 2')\n",
    "\n",
    "# Add labels and show the plot\n",
    "plt.legend(loc = 'best')\n",
    "plt.xlabel('X - Location (m)')\n",
    "plt.ylabel('Height (m)')\n",
    "plt.show()"
   ]
  },
  {
   "cell_type": "markdown",
   "id": "1a8dd68a-9a98-4c84-93e6-09aa0ec60459",
   "metadata": {},
   "source": [
    "Note that we have tried to fit twice and that these give quite different results. The only difference between these cases are the initial guess for the model parameters used in each case. In some problems the solution is not very sensitive to the initial guess but in others (particularly involving periodic functions like `sin`) the initial guess is very important. It's often a good idea to try fitting with different initial guesses in order to determine how robust your fit is.\n",
    "\n",
    "We also obtain the covariance of the fitted model parameters. This can be used to provide error estimates on the fit parameters."
   ]
  }
 ],
 "metadata": {
  "kernelspec": {
   "display_name": "Python 3 (ipykernel)",
   "language": "python",
   "name": "python3"
  },
  "language_info": {
   "codemirror_mode": {
    "name": "ipython",
    "version": 3
   },
   "file_extension": ".py",
   "mimetype": "text/x-python",
   "name": "python",
   "nbconvert_exporter": "python",
   "pygments_lexer": "ipython3",
   "version": "3.11.4"
  }
 },
 "nbformat": 4,
 "nbformat_minor": 5
}
