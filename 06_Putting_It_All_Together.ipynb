{
 "cells": [
  {
   "cell_type": "markdown",
   "id": "a37a9f74-00ee-4051-99f8-764e0e32e89c",
   "metadata": {},
   "source": [
    "# Putting it all together\n",
    "\n",
    "Let us look at a worked example combining much of what we've seen so far.\n",
    "\n",
    "Suppose we have developed a plasma diagnostic which can measure how many particles, $f$, are moving with a particular velocity, $v$. By looking at the distribution of particle velocities, $f(v)$, we can learn something about the bulk properties of the plasma. In collisional plasmas we expect this distribution function, $f$, to be well described by a Maxwellian:\n",
    "\n",
    "$$\n",
    "f(v) = A \\exp{\\left[-\\frac{v^2}{v_{th}^2}\\right]}\n",
    "$$\n",
    "\n",
    "where $A$ is some constant (we'll come back to this later) and $v_{th}$ is the thermal velocity given by:\n",
    "\n",
    "$$\n",
    " v_{th} = \\sqrt{\\frac{2 k_B T}{m}}\n",
    "$$\n",
    "\n",
    "where $k_B$ is the Boltzmann constant, $T$ is the temperature and $m$ is the particle mass.\n",
    "\n",
    "Given $f(v)$ we want to determine the temperature of the plasma. Here we will see how to do this with python."
   ]
  },
  {
   "cell_type": "markdown",
   "id": "105990a9-3bae-49f9-b926-007ae7a47102",
   "metadata": {},
   "source": [
    "## Getting the measurements\n",
    "\n",
    "We've applied our diagnostic to a hydrogen plasma, measured $f$ for a range of $v$ and wrote these values to file. Now we want to read this data into python so that we can try to determine the temperature. We stored the data into the file `exercise_data/distribution_1.txt` which contains three columns, $v$, $f$ and the error on $f$, $\\epsilon$. We can read this in as follows:"
   ]
  },
  {
   "cell_type": "code",
   "execution_count": null,
   "id": "d9f0538d-b4dd-42ab-acf5-3cd0a632c4c8",
   "metadata": {},
   "outputs": [],
   "source": [
    "import numpy as np\n",
    "raw_data = np.loadtxt('exercise_data/distribution_1.txt')\n",
    "# Check the shape -- see it is 101 x 3. This is 101 measurements of [v, f, error]\n",
    "print(\"The shape is \",raw_data.shape)\n",
    "# Extract the data into sensibly named variables\n",
    "v_values = raw_data[:, 0] #All 101 values for the first column\n",
    "f_values = raw_data[:, 1] #All 101 values for the second column\n",
    "error = raw_data[:, 2] #All 101 values for the third column"
   ]
  },
  {
   "cell_type": "markdown",
   "id": "7aae7ed2-286e-4245-911a-23c817cf9cae",
   "metadata": {},
   "source": [
    "## Visualising the measurements\n",
    "\n",
    "Before we try to make any measurements let us visualise the data"
   ]
  },
  {
   "cell_type": "code",
   "execution_count": null,
   "id": "f7a63d0a-fe10-4f31-9f0f-a9b93a04898c",
   "metadata": {},
   "outputs": [],
   "source": [
    "import matplotlib.pyplot as plt\n",
    "\n",
    "plt.errorbar(v_values, f_values, fmt = '-x', yerr = error, label = 'Raw data with errors', ecolor = 'red')\n",
    "plt.xlabel(r'$v$ (m/s)')\n",
    "plt.ylabel(r'$f(v)$ (#)')\n",
    "plt.legend(loc = 'best')\n",
    "plt.grid(True, 'both')\n",
    "plt.show()"
   ]
  },
  {
   "cell_type": "markdown",
   "id": "4f3c0a5d-c7ae-462e-a087-ffde7d5b42c6",
   "metadata": {},
   "source": [
    "## Measuring the temperature\n",
    "\n",
    "Now we want to try extracting the temperature from this data. To do this we can try to fit a Maxwellian form to our data:\n",
    "\n",
    "$$\n",
    "f(v) = a \\exp{\\left[-\\frac{v^2}{b^2}\\right]}\n",
    "$$\n",
    "\n",
    "with $a$ and $b$ fitting coefficients. We can then see comparing to our original Maxwellian that $b = v_{th}$ and from the definition of $v_{th}$ we can then rearrange to find $T$:\n",
    "\n",
    "$$\n",
    "T = \\frac{m b^2}{2 k_B}\n",
    "$$"
   ]
  },
  {
   "cell_type": "code",
   "execution_count": null,
   "id": "0603df09-57fb-4a87-b29b-3641a753de61",
   "metadata": {},
   "outputs": [],
   "source": [
    "# Get the curve fit function\n",
    "from scipy.optimize import curve_fit\n",
    "\n",
    "#Define a function describing the curve we are trying to fit\n",
    "def maxwellian(v, a, b):\n",
    "    return a * np.exp(-(v**2)/b**2)\n",
    "\n",
    "# Initial guess -- the first parameter sets the height of the Maxwellian and the second controls the width\n",
    "# The y-scale from the plot is ~ 300 and the x scale is ~1e6 so use these as guesses here.\n",
    "initial_guess = [300.0, 1e6]\n",
    "\n",
    "fit_params, fit_covariance = curve_fit(maxwellian, v_values, f_values, p0 = [300, 1e6])\n",
    "\n",
    "print('The fitted value of a is :',fit_params[0])\n",
    "print('The fitted value of b is :',fit_params[1])\n",
    "\n",
    "# Always good to visually check the quality of the fit so let us plot is\n",
    "plt.errorbar(v_values, f_values, fmt = '-x', yerr = error, label = 'Raw data with errors', ecolor = 'red')\n",
    "plt.plot(v_values, maxwellian(v_values, fit_params[0], fit_params[1]), label = 'Fitted function')\n",
    "plt.xlabel(r'$v$ (m/s)')\n",
    "plt.ylabel(r'$f(v)$ (#)')\n",
    "plt.legend(loc = 'best')\n",
    "plt.grid(True, 'both')\n",
    "plt.show()\n",
    "\n",
    "# Now we can calculate the temperature from the value of b. We need the proton mass and Boltzmann\n",
    "# constant to do this. Here we get these from the scipy constants module:\n",
    "from scipy.constants import proton_mass, Boltzmann\n",
    "\n",
    "temperature = fit_params[1]**2 * proton_mass / (2 * Boltzmann)\n",
    "\n",
    "print('The temperature deduced from the fit is',temperature,' Kelvin.')"
   ]
  },
  {
   "cell_type": "markdown",
   "id": "a8d7f544-2a44-4aa0-9b3a-0ed3177e6434",
   "metadata": {},
   "source": [
    "## Summary\n",
    "\n",
    "Here we have seen how we can read in data, inspect it, fit a model to it and use this to extract some meaningful values in a few lines of python code. This helps to highlight some of the power which comes from the use of appropriate modules in python. You will likely find that much of the time you can essentially \"glue together\" module methods to produce a tool that does what you want.\n",
    "\n",
    "However, we could go further in this analysis. Our quoted temperature doesn't include any estimate of the error, how can we get this? What about the error on the measurements, we've only used this in the plotting but should we also use this in the fit?\n"
   ]
  },
  {
   "cell_type": "markdown",
   "id": "d72a3626-f585-4a55-8a9c-509cd8a35434",
   "metadata": {},
   "source": [
    "### Tasks\n",
    "\n",
    "1. Read the [`curve_fit` documentation](https://docs.scipy.org/doc/scipy/reference/generated/scipy.optimize.curve_fit.html) to see if you can work out how to modify the example code to include errors on $f$ in the fit _and_ how to calculate the error on the resulting fit parameter `b`. _Hint: a web search containing \"curve_fit error on...\" might also help._\n",
    "2. Modify the code to at least calculate the error on `b` and propagate this through to give you an error on $T$. The data was generated with $T = 10,000,000 K$, does the value from the fit agree within error?\n",
    "3. The fit parameter, `a`, corresponds to the Maxwellian parameter $A$. In fact, here we can define $A = 4 n/\\left(\\sqrt{\\pi} v_{th}\\right)$ where $n$ is known as the number density of the plasma. Given the existing code work out the number density of the plasma (ideally including errors).\n",
    "4. The number density, $n$, can also be written as $n = \\int_{-\\infty}^\\infty{f(v) dv}$. Given the $f(v)$ data from experiment calculate $n$ without fitting. Compare your value to the fit from 3, do they agree?"
   ]
  }
 ],
 "metadata": {
  "kernelspec": {
   "display_name": "Python 3 (ipykernel)",
   "language": "python",
   "name": "python3"
  },
  "language_info": {
   "codemirror_mode": {
    "name": "ipython",
    "version": 3
   },
   "file_extension": ".py",
   "mimetype": "text/x-python",
   "name": "python",
   "nbconvert_exporter": "python",
   "pygments_lexer": "ipython3",
   "version": "3.11.4"
  }
 },
 "nbformat": 4,
 "nbformat_minor": 5
}
